{
  "nbformat": 4,
  "nbformat_minor": 0,
  "metadata": {
    "colab": {
      "provenance": [],
      "authorship_tag": "ABX9TyObQBiVhszc8MJp/4aphMf5"
    },
    "kernelspec": {
      "name": "python3",
      "display_name": "Python 3"
    },
    "language_info": {
      "name": "python"
    }
  },
  "cells": [
    {
      "cell_type": "code",
      "execution_count": 1,
      "metadata": {
        "id": "z8I8yQSsZmPz"
      },
      "outputs": [],
      "source": [
        "# example of training a gan on mnist\n",
        "from numpy import expand_dims\n",
        "from numpy import zeros\n",
        "from numpy import ones\n",
        "from numpy import vstack\n",
        "from numpy.random import randn\n",
        "from numpy.random import randint\n",
        "from keras.datasets import mnist\n",
        "from matplotlib import pyplot\n",
        "import matplotlib.pyplot as plt"
      ]
    },
    {
      "cell_type": "code",
      "source": [
        "(train_X, train_y), (test_X, test_y) = mnist.load_data()\n",
        "print('X_train: ' + str(train_X.shape))"
      ],
      "metadata": {
        "colab": {
          "base_uri": "https://localhost:8080/"
        },
        "id": "M-WwZ2QcaRB-",
        "outputId": "86de9e36-4307-48a9-99c7-5105621fa5a5"
      },
      "execution_count": 2,
      "outputs": [
        {
          "output_type": "stream",
          "name": "stdout",
          "text": [
            "Downloading data from https://storage.googleapis.com/tensorflow/tf-keras-datasets/mnist.npz\n",
            "\u001b[1m11490434/11490434\u001b[0m \u001b[32m━━━━━━━━━━━━━━━━━━━━\u001b[0m\u001b[37m\u001b[0m \u001b[1m0s\u001b[0m 0us/step\n",
            "X_train: (60000, 28, 28)\n"
          ]
        }
      ]
    },
    {
      "cell_type": "code",
      "source": [
        "train_X = train_X.reshape(train_X.shape[0], train_X.shape[1]*train_X.shape[2])"
      ],
      "metadata": {
        "id": "StvlKybTaToF"
      },
      "execution_count": 3,
      "outputs": []
    },
    {
      "cell_type": "code",
      "source": [
        "print('X_train: ' + str(train_X.shape))\n",
        "print('X_train: ' + str(train_X[1].shape))"
      ],
      "metadata": {
        "colab": {
          "base_uri": "https://localhost:8080/"
        },
        "id": "gHpjwWfjaY5K",
        "outputId": "759d2818-77cf-4ffe-8cc0-1a8e5e854037"
      },
      "execution_count": 4,
      "outputs": [
        {
          "output_type": "stream",
          "name": "stdout",
          "text": [
            "X_train: (60000, 784)\n",
            "X_train: (784,)\n"
          ]
        }
      ]
    },
    {
      "cell_type": "code",
      "source": [
        "train_X = train_X/255"
      ],
      "metadata": {
        "id": "-43ouozzaeam"
      },
      "execution_count": 5,
      "outputs": []
    },
    {
      "cell_type": "code",
      "source": [
        "train_y"
      ],
      "metadata": {
        "colab": {
          "base_uri": "https://localhost:8080/"
        },
        "id": "2_qPEGgKafxT",
        "outputId": "ffab7047-f16d-4eef-c83f-d8f14b4d77f4"
      },
      "execution_count": 6,
      "outputs": [
        {
          "output_type": "execute_result",
          "data": {
            "text/plain": [
              "array([5, 0, 4, ..., 5, 6, 8], dtype=uint8)"
            ]
          },
          "metadata": {},
          "execution_count": 6
        }
      ]
    },
    {
      "cell_type": "code",
      "source": [
        "from sklearn.naive_bayes import BernoulliNB\n",
        "clf = BernoulliNB()\n",
        "model=clf.fit(train_X, train_y)"
      ],
      "metadata": {
        "id": "v2zhZkPFako7"
      },
      "execution_count": 8,
      "outputs": []
    },
    {
      "cell_type": "code",
      "source": [
        "import numpy as np\n",
        "prob= (np.exp(model.feature_log_prob_)[0])\n",
        "prob"
      ],
      "metadata": {
        "colab": {
          "base_uri": "https://localhost:8080/"
        },
        "id": "zcRLcgb8axUr",
        "outputId": "08a46200-4d92-493a-8e0b-7bbb0cb094c7"
      },
      "execution_count": 10,
      "outputs": [
        {
          "output_type": "execute_result",
          "data": {
            "text/plain": [
              "array([1.68776371e-04, 1.68776371e-04, 1.68776371e-04, 1.68776371e-04,\n",
              "       1.68776371e-04, 1.68776371e-04, 1.68776371e-04, 1.68776371e-04,\n",
              "       1.68776371e-04, 1.68776371e-04, 1.68776371e-04, 1.68776371e-04,\n",
              "       1.68776371e-04, 1.68776371e-04, 1.68776371e-04, 1.68776371e-04,\n",
              "       1.68776371e-04, 1.68776371e-04, 1.68776371e-04, 1.68776371e-04,\n",
              "       1.68776371e-04, 1.68776371e-04, 1.68776371e-04, 1.68776371e-04,\n",
              "       1.68776371e-04, 1.68776371e-04, 1.68776371e-04, 1.68776371e-04,\n",
              "       1.68776371e-04, 1.68776371e-04, 1.68776371e-04, 1.68776371e-04,\n",
              "       1.68776371e-04, 1.68776371e-04, 1.68776371e-04, 1.68776371e-04,\n",
              "       1.68776371e-04, 1.68776371e-04, 1.68776371e-04, 3.37552743e-04,\n",
              "       3.37552743e-04, 3.37552743e-04, 1.68776371e-04, 3.37552743e-04,\n",
              "       3.37552743e-04, 3.37552743e-04, 1.68776371e-04, 1.68776371e-04,\n",
              "       1.68776371e-04, 1.68776371e-04, 1.68776371e-04, 1.68776371e-04,\n",
              "       1.68776371e-04, 1.68776371e-04, 1.68776371e-04, 1.68776371e-04,\n",
              "       1.68776371e-04, 1.68776371e-04, 1.68776371e-04, 3.37552743e-04,\n",
              "       3.37552743e-04, 1.68776371e-04, 3.37552743e-04, 5.06329114e-04,\n",
              "       3.37552743e-04, 1.68776371e-04, 1.68776371e-04, 3.37552743e-04,\n",
              "       5.06329114e-04, 8.43881857e-04, 5.06329114e-04, 5.06329114e-04,\n",
              "       8.43881857e-04, 6.75105485e-04, 3.37552743e-04, 3.37552743e-04,\n",
              "       1.68776371e-04, 1.68776371e-04, 1.68776371e-04, 1.68776371e-04,\n",
              "       1.68776371e-04, 1.68776371e-04, 1.68776371e-04, 1.68776371e-04,\n",
              "       1.68776371e-04, 1.68776371e-04, 1.68776371e-04, 3.37552743e-04,\n",
              "       5.06329114e-04, 5.06329114e-04, 5.06329114e-04, 6.75105485e-04,\n",
              "       1.35021097e-03, 3.03797468e-03, 5.56962025e-03, 9.78902954e-03,\n",
              "       1.60337553e-02, 2.29535865e-02, 2.80168776e-02, 3.07172996e-02,\n",
              "       3.10548523e-02, 2.64978903e-02, 2.22784810e-02, 1.65400844e-02,\n",
              "       1.19831224e-02, 7.42616034e-03, 2.86919831e-03, 1.68776371e-03,\n",
              "       3.37552743e-04, 3.37552743e-04, 1.68776371e-04, 1.68776371e-04,\n",
              "       1.68776371e-04, 1.68776371e-04, 1.68776371e-04, 5.06329114e-04,\n",
              "       8.43881857e-04, 1.18143460e-03, 3.37552743e-03, 6.58227848e-03,\n",
              "       1.56962025e-02, 3.35864979e-02, 6.83544304e-02, 1.23544304e-01,\n",
              "       2.02531646e-01, 2.80337553e-01, 3.56624473e-01, 4.08607595e-01,\n",
              "       4.27172996e-01, 4.02194093e-01, 3.40084388e-01, 2.57552743e-01,\n",
              "       1.68438819e-01, 9.75527426e-02, 4.75949367e-02, 1.70464135e-02,\n",
              "       3.20675105e-03, 5.06329114e-04, 1.68776371e-04, 1.68776371e-04,\n",
              "       1.68776371e-04, 1.68776371e-04, 1.68776371e-04, 6.75105485e-04,\n",
              "       1.35021097e-03, 3.20675105e-03, 7.93248945e-03, 2.09282700e-02,\n",
              "       4.97890295e-02, 1.02447257e-01, 1.95611814e-01, 3.15949367e-01,\n",
              "       4.51983122e-01, 5.90717300e-01, 6.92658228e-01, 7.61856540e-01,\n",
              "       7.78396624e-01, 7.51392405e-01, 6.71561181e-01, 5.39240506e-01,\n",
              "       3.91729958e-01, 2.47257384e-01, 1.25907173e-01, 4.69198312e-02,\n",
              "       7.76371308e-03, 5.06329114e-04, 1.68776371e-04, 1.68776371e-04,\n",
              "       1.68776371e-04, 1.68776371e-04, 1.68776371e-04, 1.68776371e-04,\n",
              "       2.70042194e-03, 7.42616034e-03, 1.68776371e-02, 4.91139241e-02,\n",
              "       1.01772152e-01, 2.01181435e-01, 3.47510549e-01, 5.07510549e-01,\n",
              "       6.56540084e-01, 7.66413502e-01, 8.44894515e-01, 8.90126582e-01,\n",
              "       9.01603376e-01, 8.90801688e-01, 8.45569620e-01, 7.42953586e-01,\n",
              "       5.81097046e-01, 4.05569620e-01, 2.36118143e-01, 1.04978903e-01,\n",
              "       1.90717300e-02, 1.35021097e-03, 5.06329114e-04, 3.37552743e-04,\n",
              "       1.68776371e-04, 1.68776371e-04, 1.68776371e-04, 3.37552743e-04,\n",
              "       2.70042194e-03, 1.18143460e-02, 3.40928270e-02, 9.13080169e-02,\n",
              "       1.93248945e-01, 3.39915612e-01, 5.11054852e-01, 6.74092827e-01,\n",
              "       7.93417722e-01, 8.56371308e-01, 8.85063291e-01, 8.95527426e-01,\n",
              "       9.00759494e-01, 9.11223629e-01, 9.05485232e-01, 8.53670886e-01,\n",
              "       7.33333333e-01, 5.56793249e-01, 3.60168776e-01, 1.76708861e-01,\n",
              "       4.23628692e-02, 2.19409283e-03, 3.37552743e-04, 3.37552743e-04,\n",
              "       3.37552743e-04, 1.68776371e-04, 5.06329114e-04, 6.75105485e-04,\n",
              "       3.20675105e-03, 1.80590717e-02, 6.61603376e-02, 1.62194093e-01,\n",
              "       3.02953586e-01, 4.75274262e-01, 6.51476793e-01, 7.76371308e-01,\n",
              "       8.45063291e-01, 8.45400844e-01, 8.16033755e-01, 7.92236287e-01,\n",
              "       7.85485232e-01, 8.13333333e-01, 8.47763713e-01, 8.64472574e-01,\n",
              "       8.13333333e-01, 6.85569620e-01, 4.76455696e-01, 2.61097046e-01,\n",
              "       7.03797468e-02, 2.19409283e-03, 1.68776371e-04, 1.68776371e-04,\n",
              "       1.68776371e-04, 1.68776371e-04, 5.06329114e-04, 6.75105485e-04,\n",
              "       5.40084388e-03, 3.96624473e-02, 1.16455696e-01, 2.59240506e-01,\n",
              "       4.29367089e-01, 6.21940928e-01, 7.63881857e-01, 8.36455696e-01,\n",
              "       8.25485232e-01, 7.58481013e-01, 6.79324895e-01, 6.14008439e-01,\n",
              "       6.01687764e-01, 6.22953586e-01, 7.08860759e-01, 7.97805907e-01,\n",
              "       8.30717300e-01, 7.60000000e-01, 5.79409283e-01, 3.50042194e-01,\n",
              "       1.03459916e-01, 2.70042194e-03, 1.68776371e-04, 1.68776371e-04,\n",
              "       1.68776371e-04, 1.68776371e-04, 3.37552743e-04, 6.75105485e-04,\n",
              "       8.77637131e-03, 7.44303797e-02, 1.92911392e-01, 3.68776371e-01,\n",
              "       5.64894515e-01, 7.31983122e-01, 8.33248945e-01, 8.25991561e-01,\n",
              "       7.41265823e-01, 6.28691983e-01, 5.09367089e-01, 4.16033755e-01,\n",
              "       3.77890295e-01, 4.18059072e-01, 5.41097046e-01, 6.95696203e-01,\n",
              "       8.09451477e-01, 7.96793249e-01, 6.49282700e-01, 4.27341772e-01,\n",
              "       1.41940928e-01, 4.21940928e-03, 1.68776371e-04, 1.68776371e-04,\n",
              "       1.68776371e-04, 3.37552743e-04, 1.68776371e-04, 3.37552743e-04,\n",
              "       1.72151899e-02, 1.21012658e-01, 2.82362869e-01, 4.91814346e-01,\n",
              "       6.78143460e-01, 8.11983122e-01, 8.29873418e-01, 7.53924051e-01,\n",
              "       6.23459916e-01, 4.73924051e-01, 3.38396624e-01, 2.42531646e-01,\n",
              "       2.15527426e-01, 2.62616034e-01, 4.12658228e-01, 6.08945148e-01,\n",
              "       7.77046414e-01, 8.18565401e-01, 6.89957806e-01, 4.81012658e-01,\n",
              "       1.78734177e-01, 5.90717300e-03, 3.37552743e-04, 1.68776371e-04,\n",
              "       1.68776371e-04, 3.37552743e-04, 3.37552743e-04, 3.37552743e-04,\n",
              "       3.07172996e-02, 1.86835443e-01, 3.78565401e-01, 5.99493671e-01,\n",
              "       7.71308017e-01, 8.37299578e-01, 7.76540084e-01, 6.41518987e-01,\n",
              "       4.71729958e-01, 3.10548523e-01, 1.80421941e-01, 1.15949367e-01,\n",
              "       1.13586498e-01, 1.81265823e-01, 3.35021097e-01, 5.49198312e-01,\n",
              "       7.42616034e-01, 8.11983122e-01, 7.11729958e-01, 5.01097046e-01,\n",
              "       2.03544304e-01, 8.60759494e-03, 3.37552743e-04, 1.68776371e-04,\n",
              "       1.68776371e-04, 3.37552743e-04, 5.06329114e-04, 6.75105485e-04,\n",
              "       4.70886076e-02, 2.50295359e-01, 4.74599156e-01, 6.93333333e-01,\n",
              "       8.23459916e-01, 8.14683544e-01, 6.98059072e-01, 5.20506329e-01,\n",
              "       3.22700422e-01, 1.74683544e-01, 8.38818565e-02, 5.63713080e-02,\n",
              "       6.93670886e-02, 1.54430380e-01, 3.07848101e-01, 5.21012658e-01,\n",
              "       7.28270042e-01, 8.05907173e-01, 7.08185654e-01, 4.96033755e-01,\n",
              "       2.09957806e-01, 1.01265823e-02, 3.37552743e-04, 1.68776371e-04,\n",
              "       1.68776371e-04, 1.68776371e-04, 1.68776371e-04, 5.06329114e-04,\n",
              "       7.62869198e-02, 3.31983122e-01, 5.75189873e-01, 7.67426160e-01,\n",
              "       8.40168776e-01, 7.60506329e-01, 5.91729958e-01, 3.85654008e-01,\n",
              "       1.92067511e-01, 8.45569620e-02, 3.91561181e-02, 3.72995781e-02,\n",
              "       6.97046414e-02, 1.75527426e-01, 3.38227848e-01, 5.53248945e-01,\n",
              "       7.36202532e-01, 7.94430380e-01, 6.82869198e-01, 4.70717300e-01,\n",
              "       2.00675105e-01, 9.95780591e-03, 1.68776371e-04, 1.68776371e-04,\n",
              "       1.68776371e-04, 1.68776371e-04, 1.68776371e-04, 1.01265823e-03,\n",
              "       1.06329114e-01, 4.01518987e-01, 6.37468354e-01, 8.07763713e-01,\n",
              "       8.36455696e-01, 7.05485232e-01, 4.98734177e-01, 2.73080169e-01,\n",
              "       1.15949367e-01, 4.47257384e-02, 2.90295359e-02, 4.32067511e-02,\n",
              "       1.03291139e-01, 2.38649789e-01, 4.23797468e-01, 6.19578059e-01,\n",
              "       7.61856540e-01, 7.77552743e-01, 6.49789030e-01, 4.29873418e-01,\n",
              "       1.82784810e-01, 1.02953586e-02, 1.68776371e-04, 1.68776371e-04,\n",
              "       1.68776371e-04, 1.68776371e-04, 1.68776371e-04, 1.68776371e-03,\n",
              "       1.38902954e-01, 4.62953586e-01, 6.80000000e-01, 8.33248945e-01,\n",
              "       8.18902954e-01, 6.49620253e-01, 4.10126582e-01, 2.01687764e-01,\n",
              "       7.93248945e-02, 3.49367089e-02, 4.16877637e-02, 9.11392405e-02,\n",
              "       1.91223629e-01, 3.56118143e-01, 5.36540084e-01, 6.98059072e-01,\n",
              "       7.93080169e-01, 7.42447257e-01, 5.86666667e-01, 3.69282700e-01,\n",
              "       1.51561181e-01, 8.43881857e-03, 1.68776371e-04, 3.37552743e-04,\n",
              "       1.68776371e-04, 1.68776371e-04, 1.68776371e-04, 2.53164557e-03,\n",
              "       1.60000000e-01, 4.90295359e-01, 6.99240506e-01, 8.40000000e-01,\n",
              "       8.08438819e-01, 6.18734177e-01, 3.77721519e-01, 1.77383966e-01,\n",
              "       9.02953586e-02, 7.08860759e-02, 1.05485232e-01, 1.98481013e-01,\n",
              "       3.35527426e-01, 5.07679325e-01, 6.62447257e-01, 7.76540084e-01,\n",
              "       7.87004219e-01, 6.82194093e-01, 4.93502110e-01, 2.91814346e-01,\n",
              "       1.10042194e-01, 5.40084388e-03, 1.68776371e-04, 3.37552743e-04,\n",
              "       1.68776371e-04, 1.68776371e-04, 1.68776371e-04, 2.19409283e-03,\n",
              "       1.68101266e-01, 4.90126582e-01, 6.99240506e-01, 8.38987342e-01,\n",
              "       8.11476793e-01, 6.39831224e-01, 4.22616034e-01, 2.46244726e-01,\n",
              "       1.71139241e-01, 1.77383966e-01, 2.53502110e-01, 3.73670886e-01,\n",
              "       5.17299578e-01, 6.66497890e-01, 7.75189873e-01, 8.06919831e-01,\n",
              "       7.35189873e-01, 5.77215190e-01, 3.90042194e-01, 2.05907173e-01,\n",
              "       7.08860759e-02, 3.03797468e-03, 1.68776371e-04, 1.68776371e-04,\n",
              "       1.68776371e-04, 3.37552743e-04, 3.37552743e-04, 3.54430380e-03,\n",
              "       1.64388186e-01, 4.52658228e-01, 6.70717300e-01, 8.25822785e-01,\n",
              "       8.38312236e-01, 7.31983122e-01, 5.71645570e-01, 4.38818565e-01,\n",
              "       3.78902954e-01, 3.96455696e-01, 4.73924051e-01, 5.88523207e-01,\n",
              "       6.99746835e-01, 7.94599156e-01, 8.25316456e-01, 7.71983122e-01,\n",
              "       6.20253165e-01, 4.42362869e-01, 2.68523207e-01, 1.22194093e-01,\n",
              "       3.51054852e-02, 1.51898734e-03, 1.68776371e-04, 1.68776371e-04,\n",
              "       1.68776371e-04, 3.37552743e-04, 3.37552743e-04, 3.54430380e-03,\n",
              "       1.36033755e-01, 3.90379747e-01, 6.12151899e-01, 7.95780591e-01,\n",
              "       8.72573840e-01, 8.57046414e-01, 7.85822785e-01, 7.10717300e-01,\n",
              "       6.74767932e-01, 6.75443038e-01, 7.20000000e-01, 7.88185654e-01,\n",
              "       8.34092827e-01, 8.47426160e-01, 7.82616034e-01, 6.36286920e-01,\n",
              "       4.58227848e-01, 3.01265823e-01, 1.53924051e-01, 5.94092827e-02,\n",
              "       1.33333333e-02, 1.01265823e-03, 3.37552743e-04, 1.68776371e-04,\n",
              "       1.68776371e-04, 1.68776371e-04, 3.37552743e-04, 2.70042194e-03,\n",
              "       9.85654008e-02, 2.93164557e-01, 5.13586498e-01, 7.12067511e-01,\n",
              "       8.49451477e-01, 9.16118143e-01, 9.21012658e-01, 8.99578059e-01,\n",
              "       8.79493671e-01, 8.72742616e-01, 8.76286920e-01, 8.80168776e-01,\n",
              "       8.53839662e-01, 7.70970464e-01, 6.29029536e-01, 4.62278481e-01,\n",
              "       2.97552743e-01, 1.68270042e-01, 7.12236287e-02, 2.21097046e-02,\n",
              "       4.55696203e-03, 5.06329114e-04, 6.75105485e-04, 3.37552743e-04,\n",
              "       1.68776371e-04, 1.68776371e-04, 1.68776371e-04, 1.85654008e-03,\n",
              "       5.31645570e-02, 1.83122363e-01, 3.59324895e-01, 5.55611814e-01,\n",
              "       7.24050633e-01, 8.43206751e-01, 9.04810127e-01, 9.22194093e-01,\n",
              "       9.18818565e-01, 9.00590717e-01, 8.70548523e-01, 8.09282700e-01,\n",
              "       7.07510549e-01, 5.62362869e-01, 4.09451477e-01, 2.63122363e-01,\n",
              "       1.42784810e-01, 6.34599156e-02, 2.49789030e-02, 5.40084388e-03,\n",
              "       2.53164557e-03, 6.75105485e-04, 6.75105485e-04, 3.37552743e-04,\n",
              "       1.68776371e-04, 1.68776371e-04, 1.68776371e-04, 3.37552743e-04,\n",
              "       1.63713080e-02, 7.47679325e-02, 1.82447257e-01, 3.27088608e-01,\n",
              "       4.79662447e-01, 6.18227848e-01, 7.19493671e-01, 7.64388186e-01,\n",
              "       7.66244726e-01, 7.34683544e-01, 6.59915612e-01, 5.50886076e-01,\n",
              "       4.32911392e-01, 3.03459916e-01, 1.92236287e-01, 1.00421941e-01,\n",
              "       4.20253165e-02, 1.53586498e-02, 4.72573840e-03, 2.02531646e-03,\n",
              "       1.01265823e-03, 5.06329114e-04, 1.68776371e-04, 1.68776371e-04,\n",
              "       1.68776371e-04, 1.68776371e-04, 1.68776371e-04, 1.68776371e-04,\n",
              "       2.19409283e-03, 1.13080169e-02, 2.88607595e-02, 6.49789030e-02,\n",
              "       1.08860759e-01, 1.57805907e-01, 1.93417722e-01, 2.18902954e-01,\n",
              "       2.25822785e-01, 2.10126582e-01, 1.84135021e-01, 1.46497890e-01,\n",
              "       1.05485232e-01, 6.85232068e-02, 3.88185654e-02, 1.72151899e-02,\n",
              "       6.41350211e-03, 1.85654008e-03, 8.43881857e-04, 5.06329114e-04,\n",
              "       5.06329114e-04, 3.37552743e-04, 1.68776371e-04, 1.68776371e-04,\n",
              "       1.68776371e-04, 1.68776371e-04, 1.68776371e-04, 1.68776371e-04,\n",
              "       1.68776371e-04, 1.68776371e-04, 3.37552743e-04, 6.75105485e-04,\n",
              "       1.85654008e-03, 2.70042194e-03, 3.37552743e-03, 3.54430380e-03,\n",
              "       3.37552743e-03, 2.86919831e-03, 2.53164557e-03, 2.02531646e-03,\n",
              "       1.18143460e-03, 5.06329114e-04, 3.37552743e-04, 1.68776371e-04,\n",
              "       1.68776371e-04, 1.68776371e-04, 1.68776371e-04, 1.68776371e-04,\n",
              "       1.68776371e-04, 1.68776371e-04, 1.68776371e-04, 1.68776371e-04,\n",
              "       1.68776371e-04, 1.68776371e-04, 1.68776371e-04, 1.68776371e-04,\n",
              "       1.68776371e-04, 1.68776371e-04, 1.68776371e-04, 1.68776371e-04,\n",
              "       1.68776371e-04, 1.68776371e-04, 1.68776371e-04, 1.68776371e-04,\n",
              "       1.68776371e-04, 1.68776371e-04, 1.68776371e-04, 1.68776371e-04,\n",
              "       1.68776371e-04, 1.68776371e-04, 1.68776371e-04, 1.68776371e-04,\n",
              "       1.68776371e-04, 1.68776371e-04, 1.68776371e-04, 1.68776371e-04,\n",
              "       1.68776371e-04, 1.68776371e-04, 1.68776371e-04, 1.68776371e-04,\n",
              "       1.68776371e-04, 1.68776371e-04, 1.68776371e-04, 1.68776371e-04,\n",
              "       1.68776371e-04, 1.68776371e-04, 1.68776371e-04, 1.68776371e-04,\n",
              "       1.68776371e-04, 1.68776371e-04, 1.68776371e-04, 1.68776371e-04,\n",
              "       1.68776371e-04, 1.68776371e-04, 1.68776371e-04, 1.68776371e-04,\n",
              "       1.68776371e-04, 1.68776371e-04, 1.68776371e-04, 1.68776371e-04,\n",
              "       1.68776371e-04, 1.68776371e-04, 1.68776371e-04, 1.68776371e-04,\n",
              "       1.68776371e-04, 1.68776371e-04, 1.68776371e-04, 1.68776371e-04])"
            ]
          },
          "metadata": {},
          "execution_count": 10
        }
      ]
    },
    {
      "cell_type": "code",
      "source": [
        "gen_image = [0 if i < 0.5 else 1 for i in prob]\n",
        "gen_image =np.array(gen_image)"
      ],
      "metadata": {
        "id": "TsDdrOYda3pl"
      },
      "execution_count": 11,
      "outputs": []
    },
    {
      "cell_type": "code",
      "source": [
        "import matplotlib.pyplot as plt\n",
        "# set up the canvas for the subplots\n",
        "plt.figure(figsize=(10,10))\n",
        "plt.axis('Off')\n",
        "# image\n",
        "plt.subplot(1,2,1)\n",
        "plt.imshow(train_X[1].reshape(28,28),cmap='gray')\n",
        "plt.title('Actual Image', fontsize=14)\n",
        "plt.axis('off')\n",
        "# image\n",
        "plt.subplot(1,2,2)\n",
        "plt.imshow(gen_image.reshape(28,28),cmap='gray')\n",
        "plt.title('Generated Image', fontsize=14)\n",
        "plt.axis('off')"
      ],
      "metadata": {
        "colab": {
          "base_uri": "https://localhost:8080/",
          "height": 824
        },
        "id": "8lwJ5EiMa6aG",
        "outputId": "c0f6f9b5-c787-4fe1-d008-68d0ac6757dd"
      },
      "execution_count": 12,
      "outputs": [
        {
          "output_type": "execute_result",
          "data": {
            "text/plain": [
              "(np.float64(-0.5), np.float64(27.5), np.float64(27.5), np.float64(-0.5))"
            ]
          },
          "metadata": {},
          "execution_count": 12
        },
        {
          "output_type": "display_data",
          "data": {
            "text/plain": [
              "<Figure size 1000x1000 with 3 Axes>"
            ],
            "image/png": "[encoded data removed]"
          },
          "metadata": {}
        }
      ]
    }
  ]
}